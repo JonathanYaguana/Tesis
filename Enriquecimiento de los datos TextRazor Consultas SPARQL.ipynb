{
 "cells": [
  {
   "cell_type": "code",
   "execution_count": 1,
   "metadata": {},
   "outputs": [],
   "source": [
    "import textrazor\n",
    "#Configuración API TextRazor\n",
    "textrazor.api_key = \"5d308b9cfb4a9e9a0a1c36eb8885602f617d236465437fe5cec90a0c\"\n",
    "client = textrazor.TextRazor(extractors=[\"entities\", \"topics\"])\n",
    "client.set_classifiers([\"textrazor_newscodes\"])"
   ]
  },
  {
   "cell_type": "code",
   "execution_count": 4,
   "metadata": {},
   "outputs": [],
   "source": [
    "from pandas import json_normalize\n",
    "import pandas as pd\n",
    "\n",
    "tripletasOM = []\n",
    "#Leer CVS de OER (Recursos Educativos Abiertos)\n",
    "datosCSV = pd.read_csv(\"newdata.csv\")\n",
    "\n",
    "for index, row in datosCSV.iterrows():\n",
    "    #Identificación de entidades en el Resumen de un OER\n",
    "    response = client.analyze(row['RESUMEN']) \n",
    "    \n",
    "    for entity in response.entities():\n",
    "        #Selección de las entidades mas relevantes con score +0.3\n",
    "        if(entity.relevance_score > 0.3):\n",
    "            # Sujeto, Predicado, Objeto \n",
    "            S1 = \"<http://data.utpl.edu.ec/oer/\"+row['TESIS']+\"> \"\n",
    "            P1 = \"<http://schema.org/mentions> \"\n",
    "            O1 = \"<\"+entity.wikipedia_link.replace(\"wikipedia\",\"dbpedia\").replace(\"/wiki\",\"/resource\")+\"> .\"\n",
    "            S2 = \"<\"+entity.wikipedia_link.replace(\"wikipedia\",\"dbpedia\").replace(\"/wiki\",\"/resource\")+\"> \"\n",
    "            P2 = \"<http://www.w3.org/2000/01/rdf-schema#label> \"\n",
    "            O2 = \"\\\"\"+entity.id+\"\\\" .\"\n",
    "            \n",
    "            tripleta1 = (S1, P1, O1)\n",
    "            tripleta2 = (O2, P2, O2)\n",
    "            \n",
    "            tripletasOM.append(tipleta1)\n",
    "            tripletasOM.append(tipleta2)"
   ]
  },
  {
   "cell_type": "code",
   "execution_count": null,
   "metadata": {},
   "outputs": [],
   "source": [
    "from SPARQLWrapper import SPARQLWrapper, JSON, XML, N3, RDF, CSV, TSV\n",
    "from pandas import json_normalize\n",
    "import pandas as pd\n",
    "sparql = SPARQLWrapper(\"http://es.dbpedia.org/sparql\")"
   ]
  },
  {
   "cell_type": "code",
   "execution_count": null,
   "metadata": {},
   "outputs": [],
   "source": [
    "for item in tripletasOM:\n",
    "    #extraer Uri de la mention\n",
    "    if (\"<\" in item[2]):\n",
    "        mention = i[2].replace(\" .\",\"\")\n",
    "        #Consulta SPARQL para extraer dct:subject y skos:broader\n",
    "        sparql.setQuery(\"\"\"\n",
    "            PREFIX dct: <http://purl.org/dc/terms/>\n",
    "            PREFIX rdfs: <http://www.w3.org/2000/01/rdf-schema#>\n",
    "            PREFIX skos: <http://www.w3.org/2004/02/skos/core#>\n",
    "            SELECT * WHERE {\n",
    "            values ?nodo {\"\"\"+mention+\"\"\"}\n",
    "            values ?p {dct:subject} \n",
    "            ?nodo ?p ?o.\n",
    "            values ?p1 {rdfs:label}\n",
    "            ?o ?p1 ?l .\n",
    "            values ?p2 {skos:broader}\n",
    "            ?o ?p2 ?s.\n",
    "            ?s ?p1 ?ss. \n",
    "            }\n",
    "            \"\"\")\n",
    "        sparql.setReturnFormat(JSON)\n",
    "        r = sparql.query().convert()\n",
    "        results = json_normalize(r[\"results\"][\"bindings\"])\n",
    "        \n",
    "        for index, row in results.iterrows():\n",
    "            t1 = (row['nodo.value'], row['p.value'], row['o.value'])\n",
    "            t2 = (row['o.value'], row['p1.value'], row['l.value'])\n",
    "            t3 = (row['o.value'], row['p2.value'], row['s.value'])\n",
    "            t4 = (row['s.value'], row['p1.value'], row['ss.value'])\n",
    "            if (t1 in tripletasOM) == False and (t2 in tripletasOM) == False :\n",
    "                tripletasOM.append(t1)\n",
    "                tripletasOM.append(t2)\n",
    "            tripletasOM.append(t3)\n",
    "            tripletasOM.append(t4)"
   ]
  }
 ],
 "metadata": {
  "kernelspec": {
   "display_name": "Python 3 (ipykernel)",
   "language": "python",
   "name": "python3"
  },
  "language_info": {
   "codemirror_mode": {
    "name": "ipython",
    "version": 3
   },
   "file_extension": ".py",
   "mimetype": "text/x-python",
   "name": "python",
   "nbconvert_exporter": "python",
   "pygments_lexer": "ipython3",
   "version": "3.9.12"
  }
 },
 "nbformat": 4,
 "nbformat_minor": 4
}
