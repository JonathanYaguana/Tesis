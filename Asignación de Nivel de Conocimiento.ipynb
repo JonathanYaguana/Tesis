{
 "cells": [
  {
   "cell_type": "code",
   "execution_count": 3,
   "metadata": {},
   "outputs": [],
   "source": [
    "import pandas as pd\n",
    "\n",
    "Verbos = pd.read_csv(\"VBloom.csv\")\n",
    "Tesis = pd.read_csv('ttnu.csv')\n",
    "\n",
    "le = [] #Leveleducation\n",
    "ver = []\n",
    "conjugacion = {\n",
    "    'ar': ('o', 'as', 'a', 'ando'),\n",
    "    'er': ('o', 'es', 'e', 'endo'),\n",
    "    'ir': ('o', 'es', 'e', 'endo')\n",
    "}\n",
    "\n",
    "for indexT, rowT in Tesis.iterrows():\n",
    "    for indexV, rowV in Verbos.iterrows():\n",
    "        \n",
    "        if rowV['Nivel'] not in v:\n",
    "            ver.append(rowV['Nivel'])\n",
    "            \n",
    "        #Pedimos el verbo \n",
    "        verbo = rowV['Verbos']\n",
    "    \n",
    "        #Separamos el verbo en prefijo y sufijo\n",
    "        prefijo = verbo[:-2]\n",
    "        sufijo = verbo[-2:]\n",
    "        \n",
    "        for i in range(4):\n",
    "            #Busqueda y comparación de verbos en el contenido\n",
    "            c = prefijo + conjugacion[sufijo][i] # c = conjugacion\n",
    "            if (c.lower() in rowT['RESUMEN'] ):\n",
    "                r = (rowV['Nivel'], rowV['Verbos'], rowT['TESIS'])\n",
    "                le.append(r)"
   ]
  },
  {
   "cell_type": "code",
   "execution_count": 4,
   "metadata": {},
   "outputs": [],
   "source": [
    "oerNivel = []\n",
    "#Conteo de Verbos por Nivel\n",
    "for itemV in ver:\n",
    "    countN = 1\n",
    "    l = \"\"\n",
    "    for itemLE in le:\n",
    "        if itemV == itemLE[0]:\n",
    "            countN=countN + 1\n",
    "            l = itemLE[0]\n",
    "    if countN-1 != 0:        \n",
    "        if(l=='Recordar') or (l=='Compreder'):\n",
    "            conteoN = (countN-1, \"Principiante\", item[2])\n",
    "            oerNivel.append(conteoN)\n",
    "        elif (l=='Aplicar') or (l=='Analizar'):\n",
    "            conteoN = (countN-1, \"Intermedio\", item[2])\n",
    "            oerNivel.append(conteoN)\n",
    "        elif (l=='Evaluar') or (l=='Crear'):\n",
    "            conteoN = (countN-1, \"Avanzado\", item[2])\n",
    "            oerNivel.append(conteoN)"
   ]
  },
  {
   "cell_type": "code",
   "execution_count": null,
   "metadata": {},
   "outputs": [],
   "source": [
    "#Conteo por Nivel Superior (Principiante, Intermedio, Avanzado)\n",
    "oerNS = []\n",
    "for indexT, rowT in Tesis.iterrows():\n",
    "    suma = 0\n",
    "    s = 0\n",
    "    a = 0 \n",
    "    for item in Nivel:\n",
    "        if rowT['TESIS']==item[2]:\n",
    "            if item[1] == \"Principiante\":\n",
    "                a = a + item[0]\n",
    "            elif item[1] == \"Intermedio\":\n",
    "                suma = suma + item[0]\n",
    "            elif item[1] == \"Avanzado\":\n",
    "                s = s + item[0]\n",
    "\n",
    "    w = (rowT['TESIS'], a, suma, s)\n",
    "    oerNS.append(w)"
   ]
  },
  {
   "cell_type": "code",
   "execution_count": null,
   "metadata": {},
   "outputs": [],
   "source": [
    "#Evaluación del Nivel Dominante\n",
    "levellist = []\n",
    "for u in oerNS:\n",
    "    if u[1] > u[2] and u[1] >= u[3]:\n",
    "        b = (\"<http://data.utpl.edu.ec/oer/\"+u[0]+\">\", \"<http://schema.org/educationalLevel>\",\"<http://data.utpl.edu.ec/oer/Principiante> .\")\n",
    "        levellist.append(b)\n",
    "    elif u[2] > u[3] and u[2] != 0:\n",
    "        b = (\"<http://data.utpl.edu.ec/oer/\"+u[0]+\">\", \"<http://schema.org/educationalLevel>\",\"<http://data.utpl.edu.ec/oer/Intermedio> .\")\n",
    "        levellist.append(b)\n",
    "    else:\n",
    "        b = (\"<http://data.utpl.edu.ec/oer/\"+u[0]+\">\", \"<http://schema.org/educationalLevel>\",\"<http://data.utpl.edu.ec/oer/Avanzado> .\")\n",
    "        levellist.append(b)"
   ]
  },
  {
   "cell_type": "code",
   "execution_count": null,
   "metadata": {},
   "outputs": [],
   "source": [
    "#Generación y Almacenamiento de Tripletas en archivo nt\n",
    "f = open(\"levelEtripletas.nt\", \"w\")\n",
    "for dato in levellist:\n",
    "    t1 = dato[0]+\" \"+dato[1]+\" \"+dato[2]\n",
    "    f.write(t1+'\\n')\n",
    "t2 = \"<http://data.utpl.edu.ec/oer/Principiante> <http://schema.org/name> \\\"Principiante\\\" .\"\n",
    "t3 = \"<http://data.utpl.edu.ec/oer/Principiante> <http://data.utpl.edu.ec/oer/vocab#nextCompetencyLevel> <http://data.utpl.edu.ec/oer/Intermedio> .\"\n",
    "t4 = \"<http://data.utpl.edu.ec/oer/Intermedio> <http://schema.org/name> \\\"Intermedio\\\" .\"\n",
    "t5 = \"<http://data.utpl.edu.ec/oer/Principiante> <http://data.utpl.edu.ec/oer/vocab#nextCompetencyLevel> <http://data.utpl.edu.ec/oer/Avanzado> .\"\n",
    "t6 = \"<http://data.utpl.edu.ec/oer/Avanzado> <http://schema.org/name> \\\"Avanzado\\\" .\"\n",
    "f.write(t2+'\\n')\n",
    "f.write(t3+'\\n')\n",
    "f.write(t4+'\\n')\n",
    "f.write(t5+'\\n')\n",
    "f.write(t6+'\\n')\n",
    "f.close()"
   ]
  }
 ],
 "metadata": {
  "kernelspec": {
   "display_name": "Python 3 (ipykernel)",
   "language": "python",
   "name": "python3"
  },
  "language_info": {
   "codemirror_mode": {
    "name": "ipython",
    "version": 3
   },
   "file_extension": ".py",
   "mimetype": "text/x-python",
   "name": "python",
   "nbconvert_exporter": "python",
   "pygments_lexer": "ipython3",
   "version": "3.9.12"
  }
 },
 "nbformat": 4,
 "nbformat_minor": 4
}
